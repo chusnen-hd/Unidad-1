{
 "cells": [
  {
   "cell_type": "markdown",
   "metadata": {},
   "source": [
    "Escribe una función que reciba por parámetro una lista de enteros y devuelva dos listas: una con los valores negativos que tuviera y otra con los positivos.\n",
    "Ambas listas deben estar ordenadas ascendentemente"
   ]
  },
  {
   "cell_type": "code",
   "execution_count": null,
   "metadata": {},
   "outputs": [],
   "source": [
    "def separate_and_sort(numbers):\n",
    "    negatives = sorted([x for x in numbers if x < 0])\n",
    "    positives = sorted([x for x in numbers if x > 0])\n",
    "    return negatives, positives\n",
    "\n",
    "# Ejemplo de uso\n",
    "numbers = [3, -1, 2, -7, 5, -3, 0, 4]\n",
    "negatives, positives = separate_and_sort(numbers)\n",
    "print(\"Negatives:\", negatives)\n",
    "print(\"Positives:\", positives)"
   ]
  },
  {
   "cell_type": "markdown",
   "metadata": {},
   "source": [
    "Escribe un programa que pida al usuario ingresar una frase o párrafo. Luego, el programa debe contar cuántas veces aparece cada palabra en el texto y mostrar las palabras junto con su frecuencia. "
   ]
  },
  {
   "cell_type": "code",
   "execution_count": 1,
   "metadata": {},
   "outputs": [
    {
     "name": "stdout",
     "output_type": "stream",
     "text": [
      "Por favor, ingresa una frase o párrafo: rgerdgdr\n",
      "Frecuencia de palabras:\n",
      "rgerdgdr: 1\n"
     ]
    }
   ],
   "source": [
    "import string\n",
    "\n",
    "def count_word_frequency(text):\n",
    "    # Convertir el texto a minúsculas y eliminar puntuación\n",
    "    text = text.lower()\n",
    "    text = text.translate(str.maketrans('', '', string.punctuation))\n",
    "    words = text.split()\n",
    "\n",
    "    # Contar la frecuencia de cada palabra\n",
    "    word_count = {}\n",
    "    for word in words:\n",
    "        if word in word_count:\n",
    "            word_count[word] += 1\n",
    "        else:\n",
    "            word_count[word] = 1\n",
    "\n",
    "    return word_count\n",
    "\n",
    "# Pedir al usuario ingresar una frase o párrafo\n",
    "user_input = input(\"Por favor, ingresa una frase o párrafo: \")\n",
    "\n",
    "# Contar la frecuencia de las palabras\n",
    "word_frequency = count_word_frequency(user_input)\n",
    "\n",
    "# Mostrar las palabras junto con su frecuencia, ordenadas por la palabra\n",
    "print(\"Frecuencia de palabras:\")\n",
    "for word in sorted(word_frequency):\n",
    "    print(f\"{word}: {word_frequency[word]}\")"
   ]
  },
  {
   "cell_type": "markdown",
   "metadata": {},
   "source": [
    "Escribe un programa que permita al usuario crear dos conjuntos de números enteros. Luego, el programa debe calcular y mostrar:\n",
    "1. La intersección de ambos conjuntos (elementos comunes).\n",
    "2. La unión de ambos conjuntos (todos los elementos sin duplicados).\n",
    "3. La diferencia simétrica (elementos que están en uno u otro conjunto,pero no en ambos). "
   ]
  },
  {
   "cell_type": "code",
   "execution_count": 2,
   "metadata": {},
   "outputs": [
    {
     "name": "stdout",
     "output_type": "stream",
     "text": [
      "Por favor, ingresa el primer conjunto de números enteros (separados por espacios): 2 4 5 6 7 8\n",
      "Por favor, ingresa el segundo conjunto de números enteros (separados por espacios): 7 5 4 3 2\n",
      "\n",
      "Resultados:\n",
      "Intersección (elementos comunes): {2, 4, 5, 7}\n",
      "Unión (todos los elementos sin duplicados): {2, 3, 4, 5, 6, 7, 8}\n",
      "Diferencia simétrica (elementos en uno u otro conjunto, pero no en ambos): {3, 6, 8}\n"
     ]
    }
   ],
   "source": [
    "def get_set_from_user(prompt):\n",
    "    while True:\n",
    "        try:\n",
    "            user_input = input(prompt)\n",
    "            # Convertir la entrada del usuario en un conjunto de enteros\n",
    "            user_set = set(map(int, user_input.split()))\n",
    "            return user_set\n",
    "        except ValueError:\n",
    "            print(\"Por favor, ingresa solo números enteros separados por espacios.\")\n",
    "\n",
    "# Pedir al usuario que ingrese dos conjuntos de números enteros\n",
    "set1 = get_set_from_user(\"Por favor, ingresa el primer conjunto de números enteros (separados por espacios): \")\n",
    "set2 = get_set_from_user(\"Por favor, ingresa el segundo conjunto de números enteros (separados por espacios): \")\n",
    "\n",
    "# Calcular la intersección, la unión y la diferencia simétrica\n",
    "intersection = set1 & set2\n",
    "union = set1 | set2\n",
    "symmetric_difference = set1 ^ set2\n",
    "\n",
    "# Mostrar los resultados\n",
    "print(\"\\nResultados:\")\n",
    "print(f\"Intersección (elementos comunes): {intersection}\")\n",
    "print(f\"Unión (todos los elementos sin duplicados): {union}\")\n",
    "print(f\"Diferencia simétrica (elementos en uno u otro conjunto, pero no en ambos): {symmetric_difference}\")"
   ]
  },
  {
   "cell_type": "code",
   "execution_count": null,
   "metadata": {},
   "outputs": [],
   "source": []
  }
 ],
 "metadata": {
  "kernelspec": {
   "display_name": "Python 3 (ipykernel)",
   "language": "python",
   "name": "python3"
  },
  "language_info": {
   "codemirror_mode": {
    "name": "ipython",
    "version": 3
   },
   "file_extension": ".py",
   "mimetype": "text/x-python",
   "name": "python",
   "nbconvert_exporter": "python",
   "pygments_lexer": "ipython3",
   "version": "3.13.1"
  }
 },
 "nbformat": 4,
 "nbformat_minor": 2
}
